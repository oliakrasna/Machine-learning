{
  "cells": [
    {
      "cell_type": "code",
      "execution_count": 43,
      "metadata": {
        "id": "6OuD0ZSe5bLK"
      },
      "outputs": [],
      "source": [
        "import numpy as np\n",
        "import pandas as pd\n",
        "from sklearn.model_selection import train_test_split\n",
        "from mpl_toolkits.mplot3d import Axes3D\n",
        "import matplotlib.pyplot as plt\n",
        "%matplotlib inline"
      ]
    },
    {
      "cell_type": "code",
      "execution_count": 44,
      "metadata": {
        "id": "N18RywdS5bLV"
      },
      "outputs": [],
      "source": [
        "def load_datasets(filename, column_list, target_column):\n",
        "    '''\n",
        "    Читає вхідний файл\n",
        "    \n",
        "    Параметри:\n",
        "    filename - шлях до вхідного файлу з даними\n",
        "    column_list - список назв колонок-характеристик\n",
        "    target_column - назва колонки з цільовою величиною\n",
        "    \n",
        "    Результат:\n",
        "    X - набір характеристик\n",
        "    y - набір передбачуваних величин\n",
        "    '''\n",
        "    \n",
        "    df = pd.read_csv(filename, delimiter=',')\n",
        "    X, y = df[column_list].values, df[target_column].values\n",
        "    return X, y"
      ]
    },
    {
      "cell_type": "code",
      "execution_count": 45,
      "metadata": {
        "id": "9hrVHTb85bLZ"
      },
      "outputs": [],
      "source": [
        "def split_datasets(X, y, test_size = 0.2):\n",
        "    '''\n",
        "    Розбиває дані на 2 датасети: тренувальний та тестувальний.\n",
        "    \n",
        "    Параметри:\n",
        "    X - набір характеристик\n",
        "    y - набір передбачуваних величин\n",
        "    test_size - розмір тестового датасету\n",
        "    \n",
        "    Результат:\n",
        "    X_train - набір тренувальних прикладів\n",
        "    X_test - набір тестових прикладів\n",
        "    y_train - вектор величин, що передбачаємо для тренувального датасету\n",
        "    y_test - вектор величин, що передбачаємо для тестового датасету\n",
        "    '''\n",
        "    X_train, X_test, y_train, y_test = train_test_split(X, y, test_size=test_size)\n",
        "    return X_train, X_test, y_train, y_test"
      ]
    },
    {
      "cell_type": "code",
      "execution_count": 46,
      "metadata": {
        "id": "nXatMtTJ5bLc"
      },
      "outputs": [],
      "source": [
        "def plot_data(X_train, X_test, y_train, y_test):\n",
        "    '''\n",
        "    Функція для відображення розподілу тренувальних та тестових даних (для однієї змінної)\n",
        "    '''\n",
        "    plt.scatter(X_train, y_train, marker='^', c='green')\n",
        "    plt.scatter(X_test, y_test, marker='o', c='red')\n",
        "    plt.show()"
      ]
    },
    {
      "cell_type": "code",
      "execution_count": 47,
      "metadata": {
        "id": "Dklz7PCt5bLd"
      },
      "outputs": [],
      "source": [
        "def normalize(X):\n",
        "    '''\n",
        "    Нормалізує датасет з характеристиками\n",
        "    \n",
        "    Параметри:\n",
        "    X - набір характеристик\n",
        "    \n",
        "    Результат:\n",
        "    X_new - набір нормалізованих характеристик, (X-mean)/std\n",
        "    mean - вектор середніх значень характеристик\n",
        "    std - вектор стандартних девіацій характеристик\n",
        "    '''\n",
        "    ##################\n",
        "    # Заповнити змінні\n",
        "    ##################\n",
        "    mean=np.sum(X,axis=0)/X.shape[0]\n",
        "    std = X.std()\n",
        "    X_new = (X - mean) / std\n",
        "    return X_new, mean, std"
      ]
    },
    {
      "cell_type": "code",
      "execution_count": 48,
      "metadata": {
        "id": "cYeshIZL5bLg"
      },
      "outputs": [],
      "source": [
        "def prepare_X(X):\n",
        "    '''\n",
        "    Формує датасет з рисами, де першою колонкою буде колонка з одиницями.\n",
        "    \n",
        "    Параметри:\n",
        "    X - вхідний датасет з прикладами, по одному в рядок. Кожна риса - відповідна колонка.\n",
        "    \n",
        "    Результат:\n",
        "    X_new - датасет, який складається з колонки одиниць, а решта колонок з X    \n",
        "    '''\n",
        "    m = X.shape[0]\n",
        "    ones = np.ones((m, 1))\n",
        "    X_new = np.array(X[:])\n",
        "    X_new = np.column_stack((ones, X_new))\n",
        "    return X_new"
      ]
    },
    {
      "cell_type": "code",
      "execution_count": 49,
      "metadata": {
        "id": "MhWsFvgB5bLi"
      },
      "outputs": [],
      "source": [
        "def hypothesis(X, theta):\n",
        "    '''\n",
        "    Обчислює значення передбачуваної величини для вхідної матриці X та вектора параметрів thetha.\n",
        "    \n",
        "    Параметри:\n",
        "    X - матриця з рисами. Перша колонка - одиниці. Друга - дані риси.\n",
        "    thetha - вектор параметрів: [thetha0, thetha1]\n",
        "    \n",
        "    Результат:\n",
        "    Матриця значень шуканої величини для прикладів з X\n",
        "    '''\n",
        "    ######################\n",
        "    # Один рядок коду\n",
        "    ######################\n",
        "    h_thetha = np.dot(X, theta) \n",
        "    return h_thetha"
      ]
    },
    {
      "cell_type": "code",
      "execution_count": 50,
      "metadata": {
        "id": "JYtSUdoi5bLm"
      },
      "outputs": [],
      "source": [
        "def cost_function(X, y, theta):\n",
        "    '''\n",
        "    Функція для обчислення штрафної функції J.\n",
        "    \n",
        "    Параметри:\n",
        "    X - тренувальний датасет. 0 - колонка з одиниць, далі - реальні риси\n",
        "    y - точні значення передбачуваної величини\n",
        "    thethe - вектор параметрів регресії\n",
        "    \n",
        "    Результат:\n",
        "    Дійсне число - значення штрафної функції для набору прикладів X та параметрів thetha\n",
        "    '''\n",
        "    m = X.shape[0]\n",
        "    if m == 0:\n",
        "        return None\n",
        "    J = np.sum((hypothesis(X,theta) - y)**2)/(2*m);      \n",
        "    ######################\n",
        "    # 1-2 рядки коду\n",
        "    ######################\n",
        "    return J"
      ]
    },
    {
      "cell_type": "code",
      "execution_count": 51,
      "metadata": {
        "id": "Hk92lGgd5bLp"
      },
      "outputs": [],
      "source": [
        "def derivative(X, y, theta):\n",
        "    m = X.shape[0]\n",
        "    '''\n",
        "    Функція для обчислення похідних штрафної функції J по thetha.\n",
        "    \n",
        "    Параметри:\n",
        "    X - тренувальний датасет. 0 - колонка з одиниць, далі - реальні риси\n",
        "    y - точні значення передбачуваної величини\n",
        "    thetha - вектор параметрів регресії\n",
        "    \n",
        "    Результат:\n",
        "    Вектор похідних d_thetha\n",
        "    '''\n",
        "\n",
        "    d_thetha = np.dot(hypothesis(X,theta) - y, X) / m\n",
        "    ######################\n",
        "    # 1 рядок коду\n",
        "    ######################\n",
        "    return d_thetha"
      ]
    },
    {
      "cell_type": "code",
      "execution_count": 52,
      "metadata": {
        "id": "r6L3umcg5bLr"
      },
      "outputs": [],
      "source": [
        "def gradient_descent(X, y, theta, alpha, num_iters, print_J = True):\n",
        "    '''\n",
        "    Функція, що реалізує градієнтний спуск для метода лінійної регресії.\n",
        "    \n",
        "    Параметри:\n",
        "    X - тренувальний датасет. 0 - колонка з одиниць, далі - реальні риси\n",
        "    y - точні значення передбачуваної величини\n",
        "    thetha - вектор початкових параметрів регресії\n",
        "    alpha - швидкість навчання\n",
        "    num_iters - кількість ітерацій\n",
        "    print_J - виведення штрафної функції на екран після кожної ітерації\n",
        "    \n",
        "    Результат:\n",
        "    theta - оптимальні значення параметрів регресії\n",
        "    J_history - масив історичних значень штрафної функції після кожної ітерації\n",
        "    \n",
        "    \n",
        "    1) J_i (theta_0, theta_1)\n",
        "    2)  theta_0 = theta_0 - alpha*dtheta_0\n",
        "        theta_1 = theta_1 - alpha*dtheta_1\n",
        "        |J_i-J_{i-1}| < eps || num_iters>10000000000 -> break\n",
        "    3) goto 1\n",
        "    '''\n",
        "    m = X.shape[0]\n",
        "    J_history = []\n",
        "    J = cost_function(X, y, theta)\n",
        "    if print_J == True:\n",
        "        print(J)\n",
        "    J_history.append(J)\n",
        "    for i in range(num_iters):\n",
        "        ######################\n",
        "        # Використати написані вище функції\n",
        "        delta = derivative(X, y, theta)\n",
        "        theta = theta - alpha*delta\n",
        "        J_i = cost_function(X, y, theta)\n",
        "        ######################\n",
        "        if print_J == True:\n",
        "            print(J)\n",
        "        J_history.append(J)\n",
        "    return theta, J_history"
      ]
    },
    {
      "cell_type": "code",
      "execution_count": 53,
      "metadata": {
        "id": "xnF2-xuN5bLx"
      },
      "outputs": [],
      "source": [
        "def plot_J(X, y):\n",
        "    '''\n",
        "    Функція для виведення графіків штрафної функції для різних значень параметрів на вхідних даних\n",
        "    \n",
        "    Параметри:\n",
        "    X - тренувальний датасет. 0 - колонка з одиниць, далі - реальні риси\n",
        "    y - точні значення передбачуваної величини\n",
        "    '''\n",
        "    theta_0 = np.linspace(-20, 20, 100)\n",
        "    theta_1 = np.linspace(-5, 10, 100)\n",
        "    \n",
        "    J_vals = np.zeros((len(theta_0), len(theta_1)))\n",
        "    for i, t0 in enumerate(theta_0):\n",
        "        for j, t1 in enumerate(theta_1):\n",
        "            theta = np.array([t0, t1])\n",
        "            J_vals[i, j] = cost_function(X, y, theta)\n",
        "    \n",
        "    J_vals = J_vals.T\n",
        "    fig = plt.figure()\n",
        "    ax = fig.gca(projection='3d')\n",
        "    ax.plot_surface(theta_0, theta_1, J_vals, color='b')\n",
        "    plt.xlabel('theta_0')\n",
        "    plt.ylabel('theta_1')\n",
        "    plt.title('Surface plot of the cost function')\n",
        "    plt.show()\n",
        "    plt.contour(theta_0, theta_1, J_vals, np.logspace(-2, 3, 20))\n",
        "    plt.xlabel('theta_0')\n",
        "    plt.ylabel('theta_1')\n",
        "    plt.title('Contour plot of the cost function')\n",
        "    plt.show()"
      ]
    },
    {
      "cell_type": "markdown",
      "metadata": {
        "id": "hEXhQp9Q5bLy"
      },
      "source": [
        "## Основний код програми"
      ]
    },
    {
      "cell_type": "markdown",
      "metadata": {
        "id": "_dNVwBRt5bL2"
      },
      "source": [
        "Отримання датасетів та видрук їх параметрів."
      ]
    },
    {
      "cell_type": "code",
      "execution_count": 54,
      "metadata": {
        "colab": {
          "base_uri": "https://localhost:8080/"
        },
        "id": "3_SH0blk5bL5",
        "outputId": "a4bc10d2-ee03-4d20-f9cd-2bd287b20127"
      },
      "outputs": [
        {
          "output_type": "stream",
          "name": "stdout",
          "text": [
            "Dataset: X=(97, 1), y=(97,)\n"
          ]
        }
      ],
      "source": [
        "X, y = load_datasets('burrito.csv', [\"population\"], \"profit\")\n",
        "print('Dataset: X={}, y={}'.format(X.shape, y.shape))"
      ]
    },
    {
      "cell_type": "code",
      "execution_count": 55,
      "metadata": {
        "colab": {
          "base_uri": "https://localhost:8080/"
        },
        "id": "NkSxy7Vr5bMM",
        "outputId": "1cba2842-2d87-4e33-bcfa-80ebad64ba3c"
      },
      "outputs": [
        {
          "output_type": "execute_result",
          "data": {
            "text/plain": [
              "array([17.592  ,  9.1302 , 13.662  , 11.854  ,  6.8233 , 11.886  ,\n",
              "        4.3483 , 12.     ,  6.5987 ,  3.8166 ,  3.2522 , 15.505  ,\n",
              "        3.1551 ,  7.2258 ,  0.71618,  3.5129 ,  5.3048 ,  0.56077,\n",
              "        3.6518 ,  5.3893 ,  3.1386 , 21.767  ,  4.263  ,  5.1875 ,\n",
              "        3.0825 , 22.638  , 13.501  ,  7.0467 , 14.692  , 24.147  ,\n",
              "       -1.22   ,  5.9966 , 12.134  ,  1.8495 ,  6.5426 ,  4.5623 ,\n",
              "        4.1164 ,  3.3928 , 10.117  ,  5.4974 ,  0.55657,  3.9115 ,\n",
              "        5.3854 ,  2.4406 ,  6.7318 ,  1.0463 ,  5.1337 ,  1.844  ,\n",
              "        8.0043 ,  1.0179 ,  6.7504 ,  1.8396 ,  4.2885 ,  4.9981 ,\n",
              "        1.4233 , -1.4211 ,  2.4756 ,  4.6042 ,  3.9624 ,  5.4141 ,\n",
              "        5.1694 , -0.74279, 17.929  , 12.054  , 17.054  ,  4.8852 ,\n",
              "        5.7442 ,  7.7754 ,  1.0173 , 20.992  ,  6.6799 ,  4.0259 ,\n",
              "        1.2784 ,  3.3411 , -2.6807 ,  0.29678,  3.8845 ,  5.7014 ,\n",
              "        6.7526 ,  2.0576 ,  0.47953,  0.20421,  0.67861,  7.5435 ,\n",
              "        5.3436 ,  4.2415 ,  6.7981 ,  0.92695,  0.152  ,  2.8214 ,\n",
              "        1.8451 ,  4.2959 ,  7.2029 ,  1.9869 ,  0.14454,  9.0551 ,\n",
              "        0.61705])"
            ]
          },
          "metadata": {},
          "execution_count": 55
        }
      ],
      "source": [
        "y"
      ]
    },
    {
      "cell_type": "markdown",
      "metadata": {
        "id": "OasSFpfS5bMO"
      },
      "source": [
        "Розбиття датасету на частини:"
      ]
    },
    {
      "cell_type": "code",
      "execution_count": 56,
      "metadata": {
        "colab": {
          "base_uri": "https://localhost:8080/"
        },
        "id": "iiGjakJP5bMQ",
        "outputId": "01015556-5050-4a61-ad19-36fb35f31462"
      },
      "outputs": [
        {
          "output_type": "stream",
          "name": "stdout",
          "text": [
            "Training set: X=(77, 1), y=(77,)\n",
            "Test set: X=(20, 1), y=(20,)\n"
          ]
        }
      ],
      "source": [
        "test_size = 0.2 #0.0\n",
        "X_train, X_test, y_train, y_test = split_datasets(X, y, test_size)\n",
        "print('Training set: X={}, y={}'.format(X_train.shape, y_train.shape))\n",
        "print('Test set: X={}, y={}'.format(X_test.shape, y_test.shape))"
      ]
    },
    {
      "cell_type": "markdown",
      "metadata": {
        "id": "Z6Z2CNSa5bMR"
      },
      "source": [
        "Відображення тренувальних і тестових даних на графіку (для 1 змінної)"
      ]
    },
    {
      "cell_type": "code",
      "execution_count": 57,
      "metadata": {
        "colab": {
          "base_uri": "https://localhost:8080/",
          "height": 266
        },
        "id": "Vs5-2k935bMR",
        "outputId": "3557c24b-6e09-46a9-bfb3-0d3861a559e6"
      },
      "outputs": [
        {
          "output_type": "display_data",
          "data": {
            "text/plain": [
              "<Figure size 432x288 with 1 Axes>"
            ],
            "image/png": "[encoded data removed]"
          },
          "metadata": {
            "needs_background": "light"
          }
        }
      ],
      "source": [
        "plot_data(X_train, X_test, y_train, y_test)"
      ]
    },
    {
      "cell_type": "markdown",
      "metadata": {
        "id": "98wfjHAm5bMT"
      },
      "source": [
        "Підготовка тренувальних даних (додавання 0-колонки з одиницями). Ініціалізація параметрів регресії (0, 0): "
      ]
    },
    {
      "cell_type": "code",
      "execution_count": 58,
      "metadata": {
        "collapsed": true,
        "id": "cRudIPJB5bMU"
      },
      "outputs": [],
      "source": [
        "X_train_norm, mean, std = normalize(X_train)\n",
        "X = prepare_X(X_train_norm)\n",
        "theta = np.array([0, 0])"
      ]
    },
    {
      "cell_type": "markdown",
      "metadata": {
        "id": "mbHWGLMF5bMU"
      },
      "source": [
        "Для спрощення записів аліас для вектора передбачуваних значень"
      ]
    },
    {
      "cell_type": "code",
      "execution_count": 59,
      "metadata": {
        "collapsed": true,
        "id": "GwoadKq85bMV"
      },
      "outputs": [],
      "source": [
        "y = y_train[:]"
      ]
    },
    {
      "cell_type": "markdown",
      "metadata": {
        "id": "AYXw1DDV5bMW"
      },
      "source": [
        "У випадку використання ВСІХ даних для тренування (test_size=0.0), штрафна функція має повернути величину близьку до 32.072."
      ]
    },
    {
      "cell_type": "code",
      "execution_count": 60,
      "metadata": {
        "colab": {
          "base_uri": "https://localhost:8080/"
        },
        "id": "6_NC4-F45bMX",
        "outputId": "1cd3007f-6bfb-476d-e9ee-014da7ee2f40"
      },
      "outputs": [
        {
          "output_type": "stream",
          "name": "stdout",
          "text": [
            "X: (77, 2)\n",
            "y: (77,)\n",
            "29.964950966924672\n"
          ]
        }
      ],
      "source": [
        "print('X: {}'.format(X.shape))\n",
        "print('y: {}'.format(y.shape))\n",
        "print(cost_function(X, y, theta))"
      ]
    },
    {
      "cell_type": "markdown",
      "metadata": {
        "id": "4swoyAd35bMa"
      },
      "source": [
        "Налаштування гіперпараметрів регресії: швидкості навчання та кількості ітерацій."
      ]
    },
    {
      "cell_type": "code",
      "execution_count": 61,
      "metadata": {
        "collapsed": true,
        "id": "fWdRUDHc5bMa"
      },
      "outputs": [],
      "source": [
        "alpha = 0.01\n",
        "num_iters = 1500"
      ]
    },
    {
      "cell_type": "markdown",
      "metadata": {
        "id": "4xeNvqFb5bMb"
      },
      "source": [
        "Запуск градієнтного спуску та видрук знайдених оптимальних значень на екран. У випадку використання всіх даних для тренування, результати будуть близькі до Theta 0: 5.84; Theta 1: 4.59"
      ]
    },
    {
      "cell_type": "code",
      "execution_count": 62,
      "metadata": {
        "colab": {
          "base_uri": "https://localhost:8080/"
        },
        "id": "R6emfZfc5bMc",
        "outputId": "dfb17c2d-7314-4c7e-f5e6-4514729c36cd"
      },
      "outputs": [
        {
          "output_type": "stream",
          "name": "stdout",
          "text": [
            "Theta 0: 5.651199695704434; Theta 1: 4.249340883756117\n"
          ]
        }
      ],
      "source": [
        "new_theta, Js = gradient_descent(X, y, theta, alpha, num_iters, False)\n",
        "print('Theta 0: {}; Theta 1: {}'.format(new_theta[0], new_theta[1]))"
      ]
    },
    {
      "cell_type": "markdown",
      "metadata": {
        "id": "dyaq1tzT5bMc"
      },
      "source": [
        "Відображення штрафної функції як функції від thetha0, thetha1."
      ]
    },
    {
      "cell_type": "code",
      "execution_count": 63,
      "metadata": {
        "colab": {
          "base_uri": "https://localhost:8080/",
          "height": 611
        },
        "id": "j6BKM8-G5bMc",
        "outputId": "a6eb6603-6f86-428a-a4b1-78b53bd1d73e"
      },
      "outputs": [
        {
          "output_type": "stream",
          "name": "stderr",
          "text": [
            "<ipython-input-53-e3e3e0da00fd>:20: MatplotlibDeprecationWarning: Calling gca() with keyword arguments was deprecated in Matplotlib 3.4. Starting two minor releases later, gca() will take no keyword arguments. The gca() function should only be used to get the current axes, or if no axes exist, create new axes with default keyword arguments. To create a new axes with non-default arguments, use plt.axes() or plt.subplot().\n",
            "  ax = fig.gca(projection='3d')\n"
          ]
        },
        {
          "output_type": "display_data",
          "data": {
            "text/plain": [
              "<Figure size 432x288 with 1 Axes>"
            ],
            "image/png": "[encoded data removed]"
          },
          "metadata": {
            "needs_background": "light"
          }
        },
        {
          "output_type": "display_data",
          "data": {
            "text/plain": [
              "<Figure size 432x288 with 1 Axes>"
            ],
            "image/png": "[encoded data removed]"
          },
          "metadata": {
            "needs_background": "light"
          }
        }
      ],
      "source": [
        "plot_J(X, y)"
      ]
    },
    {
      "cell_type": "markdown",
      "metadata": {
        "id": "67tNMf_r5bMd"
      },
      "source": [
        "Відображення знайденої апроксимації разом із тренувальними даними."
      ]
    },
    {
      "cell_type": "code",
      "execution_count": 66,
      "metadata": {
        "colab": {
          "base_uri": "https://localhost:8080/",
          "height": 282
        },
        "id": "cDR1esW_5bMd",
        "outputId": "a7f920ad-5080-431d-88e5-3160b90b8dcf"
      },
      "outputs": [
        {
          "output_type": "stream",
          "name": "stdout",
          "text": [
            "[5.6511997  4.24934088]\n"
          ]
        },
        {
          "output_type": "display_data",
          "data": {
            "text/plain": [
              "<Figure size 432x288 with 1 Axes>"
            ],
            "image/png": "[encoded data removed]"
          },
          "metadata": {
            "needs_background": "light"
          }
        }
      ],
      "source": [
        "x = np.arange(3, 25, 0.1)\n",
        "print(new_theta)\n",
        "h = new_theta[0] + new_theta[1]*x\n",
        "plt.plot(x, h)\n",
        "plt.scatter(X_train, y_train, marker='x', c='green')\n",
        "\n",
        "plt.show()"
      ]
    },
    {
      "cell_type": "markdown",
      "metadata": {
        "id": "Z6Fdkyhq5bMe"
      },
      "source": [
        "Оцінка похибки апроксимації на тестових даних (test_size має бути більше 0.0 та менше 1.0)."
      ]
    },
    {
      "cell_type": "code",
      "execution_count": 69,
      "metadata": {
        "colab": {
          "base_uri": "https://localhost:8080/"
        },
        "id": "FeWt8UYl5bMe",
        "outputId": "aba58f35-7183-48f6-cdec-87a3c787c7d5"
      },
      "outputs": [
        {
          "output_type": "stream",
          "name": "stdout",
          "text": [
            "          X  y_actual     y_pred         err\n",
            "0    5.0269   -2.6807   2.205445  182.271235\n",
            "1    5.5416    1.0179   2.792990  174.387494\n",
            "2    8.0959    4.1164   5.708800   38.684275\n",
            "3    8.4084    7.2258   6.065528   16.057357\n",
            "4    8.8254    5.1694   6.541545   26.543610\n",
            "5    5.3794    3.5129   2.607834   25.764064\n",
            "6    5.4901    4.2630   2.734202   35.862033\n",
            "7   10.1360    6.6799   8.037634   20.325666\n",
            "8   20.2700   21.7670  19.605896    9.928352\n",
            "9    6.3261    5.1875   3.688520   28.895994\n",
            "10   5.7107    3.2522   2.986023    8.184522\n",
            "11   7.4239    4.2885   4.941692   15.231236\n",
            "12   5.3077    1.8396   2.525987   37.311726\n",
            "13   6.4296    3.6518   3.806669    4.240885\n",
            "14   8.5781   12.0000   6.259245   47.839624\n",
            "15  18.9450   22.6380  18.093369   20.075232\n",
            "16   6.5894    5.9966   3.989085   33.477553\n",
            "17   7.0708    5.3893   4.538617   15.784658\n",
            "18   7.5386    3.8845   5.072625   30.586305\n",
            "19  14.9080   12.0540  13.485014   11.871691\n",
            "2.688075240405014\n"
          ]
        }
      ],
      "source": [
        "####################\n",
        "# Нормалізувати тестовий датасет, використовуючи mean, std з тренувального\n",
        "####################\n",
        "X_test_proc = (X_test.copy() - mean)/std\n",
        "X_test_proc = prepare_X(X_test_proc)\n",
        "y_test_pred = hypothesis(X_test_proc, new_theta)\n",
        "rel_diff = np.abs(np.divide(y_test - y_test_pred, y_test)) * 100\n",
        "res = pd.DataFrame({'X' : np.transpose(X_test).reshape((20,)), 'y_actual' : y_test, 'y_pred' : y_test_pred, 'err' : rel_diff})\n",
        "print(res)\n",
        "print(cost_function(X_test_proc, y_test, new_theta))"
      ]
    }
  ],
  "metadata": {
    "anaconda-cloud": {},
    "kernelspec": {
      "display_name": "Python 3 (ipykernel)",
      "language": "python",
      "name": "python3"
    },
    "language_info": {
      "codemirror_mode": {
        "name": "ipython",
        "version": 3
      },
      "file_extension": ".py",
      "mimetype": "text/x-python",
      "name": "python",
      "nbconvert_exporter": "python",
      "pygments_lexer": "ipython3",
      "version": "3.8.8"
    },
    "colab": {
      "provenance": []
    }
  },
  "nbformat": 4,
  "nbformat_minor": 0
}